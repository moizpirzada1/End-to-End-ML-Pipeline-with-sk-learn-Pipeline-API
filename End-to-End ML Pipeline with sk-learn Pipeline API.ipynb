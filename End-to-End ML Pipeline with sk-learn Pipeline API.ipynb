{
 "cells": [
  {
   "cell_type": "code",
   "execution_count": 1,
   "id": "a4148034-a0f2-4a10-90b3-2e799ff27ffb",
   "metadata": {},
   "outputs": [],
   "source": [
    "import pandas as pd\n",
    "from sklearn.model_selection import train_test_split, GridSearchCV\n",
    "from sklearn.preprocessing import StandardScaler, OneHotEncoder\n",
    "from sklearn.compose import ColumnTransformer\n",
    "from sklearn.pipeline import Pipeline\n",
    "from sklearn.linear_model import LogisticRegression\n",
    "from sklearn.ensemble import RandomForestClassifier\n",
    "from sklearn.metrics import accuracy_score, classification_report\n",
    "import joblib\n"
   ]
  },
  {
   "cell_type": "code",
   "execution_count": 2,
   "id": "0a935406-1ab1-4cc6-b21a-0f3839e25fb2",
   "metadata": {},
   "outputs": [],
   "source": [
    "df = pd.read_csv(r\"C:\\Users\\R Y Z E N\\Desktop\\5a\\WA_Fn-UseC_-Telco-Customer-Churn (1).csv\")\n"
   ]
  },
  {
   "cell_type": "code",
   "execution_count": 3,
   "id": "d1fb5a49-8218-4bd1-b7ba-7e90e920bd17",
   "metadata": {},
   "outputs": [],
   "source": [
    "# 2. BASIC CLEANING\n",
    "# Remove customerID column (not useful for prediction)\n",
    "df.drop(\"customerID\", axis=1, inplace=True)\n",
    "\n",
    "# Convert 'TotalCharges' to numeric (it may have spaces)\n",
    "df[\"TotalCharges\"] = pd.to_numeric(df[\"TotalCharges\"], errors='coerce')\n",
    "\n",
    "# Fill missing numeric values with 0\n",
    "df.fillna(0, inplace=True)\n",
    "\n",
    "# Encode target variable: \"Yes\"=1, \"No\"=0\n",
    "df[\"Churn\"] = df[\"Churn\"].map({\"Yes\": 1, \"No\": 0})"
   ]
  },
  {
   "cell_type": "code",
   "execution_count": 4,
   "id": "b3a78a88-bdd9-4ad4-83df-e37514130ff7",
   "metadata": {},
   "outputs": [],
   "source": [
    "# 3. SPLIT FEATURES & TARGET\n",
    "# ---------------------------\n",
    "X = df.drop(\"Churn\", axis=1)\n",
    "y = df[\"Churn\"]\n",
    "\n",
    "# Identify categorical and numeric columns\n",
    "numeric_features = X.select_dtypes(include=[\"int64\", \"float64\"]).columns\n",
    "categorical_features = X.select_dtypes(include=[\"object\"]).columns\n"
   ]
  },
  {
   "cell_type": "code",
   "execution_count": 5,
   "id": "88c3e3e8-be2e-4df4-9a7f-d0d3fe47b77c",
   "metadata": {},
   "outputs": [],
   "source": [
    "# 4. PREPROCESSING PIPELINE\n",
    "numeric_transformer = StandardScaler()\n",
    "categorical_transformer = OneHotEncoder(handle_unknown='ignore')\n",
    "\n",
    "preprocessor = ColumnTransformer(\n",
    "    transformers=[\n",
    "        (\"num\", numeric_transformer, numeric_features),\n",
    "        (\"cat\", categorical_transformer, categorical_features)\n",
    "    ]\n",
    ")\n"
   ]
  },
  {
   "cell_type": "code",
   "execution_count": 6,
   "id": "42d89a33-c903-4906-b68e-3a7f4a0f4808",
   "metadata": {},
   "outputs": [],
   "source": [
    "# 5. DEFINE MODELS + PARAM GRIDS\n",
    "models = {\n",
    "    \"logreg\": (\n",
    "        LogisticRegression(max_iter=1000, solver=\"liblinear\"),\n",
    "        {\"classifier__C\": [0.1, 1, 10]}\n",
    "    ),\n",
    "    \"rf\": (\n",
    "        RandomForestClassifier(random_state=42),\n",
    "        {\n",
    "            \"classifier__n_estimators\": [100, 200],\n",
    "            \"classifier__max_depth\": [5, 10, None]\n",
    "        }\n",
    "    )\n",
    "}"
   ]
  },
  {
   "cell_type": "code",
   "execution_count": 7,
   "id": "48f75e78-222f-4984-b820-5b3656dae38a",
   "metadata": {},
   "outputs": [],
   "source": [
    "# 6. TRAIN + SAVE EACH MODEL\n",
    "X_train, X_test, y_train, y_test = train_test_split(X, y, test_size=0.2, random_state=42)\n",
    "\n",
    "for name, (model, param_grid) in models.items():\n",
    "    pipe = Pipeline(steps=[\n",
    "        (\"preprocessor\", preprocessor),\n",
    "        (\"classifier\", model)\n",
    "    ])\n",
    "\n",
    "    grid = GridSearchCV(pipe, param_grid, cv=3, scoring=\"accuracy\", n_jobs=-1)\n",
    "    grid.fit(X_train, y_train)"
   ]
  },
  {
   "cell_type": "code",
   "execution_count": 8,
   "id": "77dcbc55-8327-4bbb-afb0-55655f81422d",
   "metadata": {},
   "outputs": [
    {
     "name": "stdout",
     "output_type": "stream",
     "text": [
      "\n",
      "🔹 Model: rf\n",
      "Best Params: {'classifier__max_depth': 10, 'classifier__n_estimators': 200}\n",
      "Accuracy: 0.8069552874378992\n",
      "Classification Report:\n",
      "               precision    recall  f1-score   support\n",
      "\n",
      "           0       0.84      0.91      0.87      1036\n",
      "           1       0.67      0.52      0.59       373\n",
      "\n",
      "    accuracy                           0.81      1409\n",
      "   macro avg       0.76      0.72      0.73      1409\n",
      "weighted avg       0.80      0.81      0.80      1409\n",
      "\n"
     ]
    }
   ],
   "source": [
    "# 7. EVALUATION\n",
    "best_model = grid.best_estimator_\n",
    "y_pred = best_model.predict(X_test)\n",
    "print(f\"\\n🔹 Model: {name}\")\n",
    "print(\"Best Params:\", grid.best_params_)\n",
    "print(\"Accuracy:\", accuracy_score(y_test, y_pred))\n",
    "print(\"Classification Report:\\n\", classification_report(y_test, y_pred))\n",
    "\n"
   ]
  },
  {
   "cell_type": "code",
   "execution_count": 9,
   "id": "b013e2dd-9406-4edd-b8f3-6686a98fe4e0",
   "metadata": {},
   "outputs": [
    {
     "name": "stdout",
     "output_type": "stream",
     "text": [
      "✅ Saved rf pipeline as rf_churn_pipeline.pkl\n"
     ]
    }
   ],
   "source": [
    "# 8. SAVE PIPELINE\n",
    "filename = f\"{name}_churn_pipeline.pkl\"\n",
    "joblib.dump(best_model, filename)\n",
    "print(f\"✅ Saved {name} pipeline as {filename}\")\n"
   ]
  }
 ],
 "metadata": {
  "kernelspec": {
   "display_name": "Python (shopgenie)",
   "language": "python",
   "name": "shopgenie"
  },
  "language_info": {
   "codemirror_mode": {
    "name": "ipython",
    "version": 3
   },
   "file_extension": ".py",
   "mimetype": "text/x-python",
   "name": "python",
   "nbconvert_exporter": "python",
   "pygments_lexer": "ipython3",
   "version": "3.10.9"
  }
 },
 "nbformat": 4,
 "nbformat_minor": 5
}
